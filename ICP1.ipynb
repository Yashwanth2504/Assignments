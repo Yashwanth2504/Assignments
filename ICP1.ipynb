{
  "nbformat": 4,
  "nbformat_minor": 0,
  "metadata": {
    "colab": {
      "provenance": []
    },
    "kernelspec": {
      "name": "python3",
      "display_name": "Python 3"
    },
    "language_info": {
      "name": "python"
    }
  },
  "cells": [
    {
      "cell_type": "code",
      "execution_count": null,
      "metadata": {
        "id": "uBbvg6WRTIMt"
      },
      "outputs": [],
      "source": []
    },
    {
      "cell_type": "markdown",
      "source": [
        "1.Write a program that takes two stringsfrom the user: first_name, last_name. Passthese variablesto\n",
        "fullname function that should return the (full name)."
      ],
      "metadata": {
        "id": "ed9OBb-CVP_i"
      }
    },
    {
      "cell_type": "markdown",
      "source": [],
      "metadata": {
        "id": "tFMaPPMMTJe3"
      }
    },
    {
      "cell_type": "code",
      "source": [
        "def fullname(first_name, last_name):\n",
        "    return first_name + \" \" + last_name\n",
        "\n",
        "# Get user input\n",
        "first_name = input(\"Enter your first name: \")\n",
        "last_name = input(\"Enter your last name: \")\n",
        "\n",
        "# Call the fullname function\n",
        "full_name = fullname(first_name, last_name)\n",
        "\n",
        "# Print the result\n",
        "print(\"Your full name is:\", full_name)"
      ],
      "metadata": {
        "colab": {
          "base_uri": "https://localhost:8080/"
        },
        "id": "UqNd0yo3T5Af",
        "outputId": "4b0dc443-2f59-4295-bea4-61f5ce724a18"
      },
      "execution_count": 5,
      "outputs": [
        {
          "output_type": "stream",
          "name": "stdout",
          "text": [
            "Enter your first name: Yashwanth\n",
            "Enter your last name: Polneni\n",
            "Your full name is: Yashwanth Polneni\n"
          ]
        }
      ]
    },
    {
      "cell_type": "markdown",
      "source": [],
      "metadata": {
        "id": "on8UPmn9gp-X"
      }
    },
    {
      "cell_type": "markdown",
      "source": [
        "Write function named “string_alternative” that returns every other char in the full_name string"
      ],
      "metadata": {
        "id": "D5Oi5wVXVOD1"
      }
    },
    {
      "cell_type": "code",
      "source": [
        "\n",
        "def string_alternative(input_string):\n",
        "    return input_string[::2]\n",
        "\n",
        "def main():\n",
        "    # Get user input for full name\n",
        "    input_string = input(\"Enter the input string: \")\n",
        "\n",
        "    # Call the string_alternative function\n",
        "    result = string_alternative(input_string)\n",
        "\n",
        "    # Print the result\n",
        "    print(\"Every other character in output string:\", result)\n",
        "\n",
        "if __name__ == \"__main__\":\n",
        "    main()\n"
      ],
      "metadata": {
        "colab": {
          "base_uri": "https://localhost:8080/"
        },
        "id": "cibtqCgCky03",
        "outputId": "49d0f95f-e089-49c1-abf5-2949428b3e0b"
      },
      "execution_count": 6,
      "outputs": [
        {
          "output_type": "stream",
          "name": "stdout",
          "text": [
            "Enter the input string: Good evening\n",
            "Every other character in output string: Go vnn\n"
          ]
        }
      ]
    },
    {
      "cell_type": "markdown",
      "source": [
        "2. Write a python program to find the wordcount in a file (input.txt) for each line and then print the output."
      ],
      "metadata": {
        "id": "TpwImX1zlKLI"
      }
    },
    {
      "cell_type": "code",
      "source": [
        "\n",
        "def count_word_occurrences(line, word_count):\n",
        "    words = line.split()\n",
        "    for word in words:\n",
        "        word_count[word] = word_count.get(word, 0) + 1\n",
        "\n",
        "def main():\n",
        "    input_file_name = \"input.txt\"\n",
        "    output_file_name = \"output.txt\"\n",
        "\n",
        "    try:\n",
        "        # Read input file\n",
        "        with open(input_file_name, 'r') as file:\n",
        "            lines = file.readlines()\n",
        "\n",
        "        # Count word occurrences\n",
        "        word_count = {}\n",
        "        for line in lines:\n",
        "            count_word_occurrences(line, word_count)\n",
        "\n",
        "        # Prepare summarized output\n",
        "        output_lines = []\n",
        "        for word, count in word_count.items():\n",
        "            output_lines.append(f\"{word}: {count}\")\n",
        "\n",
        "        # Print the output\n",
        "        for output_line in output_lines:\n",
        "            print(output_line)\n",
        "\n",
        "        # Write output to file\n",
        "        with open(output_file_name, 'w') as output_file:\n",
        "            output_file.write('\\n'.join(output_lines))\n",
        "\n",
        "        print(f\"\\nWord count results saved in {output_file_name}\")\n",
        "\n",
        "    except FileNotFoundError:\n",
        "        print(f\"Error: File '{input_file_name}' not found.\")\n",
        "\n",
        "if __name__ == \"__main__\":\n",
        "    main()"
      ],
      "metadata": {
        "colab": {
          "base_uri": "https://localhost:8080/"
        },
        "id": "SgALY_qvlPov",
        "outputId": "4413470d-5bd7-40db-c7f9-719ac06fc724"
      },
      "execution_count": 10,
      "outputs": [
        {
          "output_type": "stream",
          "name": "stdout",
          "text": [
            "Python: 1\n",
            "Course: 2\n",
            "Deep: 1\n",
            "Learning: 1\n",
            "\n",
            "Word count results saved in output.txt\n"
          ]
        }
      ]
    },
    {
      "cell_type": "markdown",
      "source": [
        "3. Write a program, which reads heights (inches.) of customersinto a list and convert these\n",
        "heights to centimeters in a separate list using:\n",
        "1) Nested Interactive loop.\n",
        "2) List comprehensions"
      ],
      "metadata": {
        "id": "Cd9Ep_yAolOo"
      }
    },
    {
      "cell_type": "code",
      "source": [
        "def inches_to_centimeters_nested(heights_inches):\n",
        "    heights_centimeters = []\n",
        "    for inch in heights_inches:\n",
        "        centimeter = inch * 2.54\n",
        "        heights_centimeters.append(round(centimeter, 2))\n",
        "    return heights_centimeters\n",
        "\n",
        "def inches_to_centimeters_list_comprehension(heights_inches):\n",
        "    return [round(inch * 2.54, 2) for inch in heights_inches]\n",
        "\n",
        "def main():\n",
        "    # Get input from the user\n",
        "    try:\n",
        "        num_customers = int(input(\"Enter the number of customers: \"))\n",
        "        heights_inches = []\n",
        "        for i in range(num_customers):\n",
        "            height = float(input(f\"Enter height (in inches) for customer {i + 1}: \"))\n",
        "            heights_inches.append(height)\n",
        "\n",
        "        # Convert using nested interactive loop\n",
        "        heights_centimeters_nested = inches_to_centimeters_nested(heights_inches)\n",
        "\n",
        "        # Convert using list comprehension\n",
        "        heights_centimeters_list_comp = inches_to_centimeters_list_comprehension(heights_inches)\n",
        "\n",
        "        # Print the results\n",
        "        print(\"\\nHeights (in inches):\", heights_inches)\n",
        "        print(\"Heights (in centimeters) using nested loop:\", heights_centimeters_nested)\n",
        "        print(\"Heights (in centimeters) using list comprehension:\", heights_centimeters_list_comp)\n",
        "\n",
        "    except ValueError:\n",
        "        print(\"Error: Please enter valid numerical values for heights.\")\n",
        "\n",
        "if __name__ == \"__main__\":\n",
        "    main()"
      ],
      "metadata": {
        "colab": {
          "base_uri": "https://localhost:8080/"
        },
        "id": "tdB2YxnOomnq",
        "outputId": "26d76f89-ef02-46b6-b450-123df0a50434"
      },
      "execution_count": 11,
      "outputs": [
        {
          "output_type": "stream",
          "name": "stdout",
          "text": [
            "Enter the number of customers: 4\n",
            "Enter height (in inches) for customer 1: 150\n",
            "Enter height (in inches) for customer 2: 155\n",
            "Enter height (in inches) for customer 3: 145\n",
            "Enter height (in inches) for customer 4: 148\n",
            "\n",
            "Heights (in inches): [150.0, 155.0, 145.0, 148.0]\n",
            "Heights (in centimeters) using nested loop: [381.0, 393.7, 368.3, 375.92]\n",
            "Heights (in centimeters) using list comprehension: [381.0, 393.7, 368.3, 375.92]\n"
          ]
        }
      ]
    }
  ]
}